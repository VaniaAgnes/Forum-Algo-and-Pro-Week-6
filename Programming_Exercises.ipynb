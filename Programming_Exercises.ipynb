{
  "nbformat": 4,
  "nbformat_minor": 0,
  "metadata": {
    "colab": {
      "provenance": [],
      "collapsed_sections": []
    },
    "kernelspec": {
      "name": "python3",
      "display_name": "Python 3"
    },
    "language_info": {
      "name": "python"
    }
  },
  "cells": [
    {
      "cell_type": "code",
      "execution_count": 73,
      "metadata": {
        "colab": {
          "base_uri": "https://localhost:8080/"
        },
        "id": "LDHIsYb-QCju",
        "outputId": "bdfa444c-3f92-41de-9e9b-3ef970c52711"
      },
      "outputs": [
        {
          "output_type": "stream",
          "name": "stdout",
          "text": [
            "{'gold': 550, 'pouch': ['flint', 'twine', 'gemstone'], 'backpack': ['bedroll', 'bread loaf', 'xylophone'], 'pocket': ['seashell', 'strange berry', 'lint']}\n"
          ]
        }
      ],
      "source": [
        "inventory = {\n",
        " 'gold' : 500,\n",
        " 'pouch' : ['flint', 'twine', 'gemstone'],\n",
        " 'backpack' : ['xylophone','dagger', 'bedroll','bread loaf']\n",
        "}\n",
        "\n",
        "inventory['pocket']=['seashell','strange berry','lint']\n",
        "inventory['backpack'].sort()\n",
        "inventory['backpack'].remove('dagger')\n",
        "inventory['gold'] += 50\n",
        "\n",
        "print(inventory)"
      ]
    },
    {
      "cell_type": "code",
      "source": [
        "prices={\"banana\": 4,\n",
        "\"apple\": 2,\n",
        "\"orange\": 1.5,\n",
        "\"pear\": 3\n",
        "}\n",
        "stock={\"banana\": 6,\n",
        " \"apple\": 0,\n",
        " \"orange\": 32,\n",
        " \"pear\": 15\n",
        "}\n",
        "for v in prices:\n",
        "  print(v)\n",
        "  print(\"prices: \"+str(prices[v]))\n",
        "  print(\"stocks: \"+str(stock[v]))\n",
        "\n",
        "total=0\n",
        "for v in prices:\n",
        "  total += prices[v] *stock[v]\n",
        "print(total)\n"
      ],
      "metadata": {
        "colab": {
          "base_uri": "https://localhost:8080/"
        },
        "id": "JQL5_zQLYOPY",
        "outputId": "d6c27dff-8989-432a-f649-218a1d2d5286"
      },
      "execution_count": 74,
      "outputs": [
        {
          "output_type": "stream",
          "name": "stdout",
          "text": [
            "banana\n",
            "prices: 4\n",
            "stocks: 6\n",
            "apple\n",
            "prices: 2\n",
            "stocks: 0\n",
            "orange\n",
            "prices: 1.5\n",
            "stocks: 32\n",
            "pear\n",
            "prices: 3\n",
            "stocks: 15\n",
            "117.0\n"
          ]
        }
      ]
    },
    {
      "cell_type": "code",
      "source": [
        "groceries = [\"banana\",\"orange\",\"apple\"]\n",
        "\n",
        "stock = {\n",
        " \"banana\": 6,\n",
        " \"apple\": 0,\n",
        " \"orange\": 32,\n",
        " \"pear\": 15\n",
        "}\n",
        "prices = {\n",
        " \"banana\": 4,\n",
        " \"apple\": 2,\n",
        " \"orange\": 1.5,\n",
        " \"pear\": 3\n",
        "}\n",
        "\n",
        "def compute_bill(food):\n",
        "  total = 0\n",
        "  for x in food:\n",
        "     if stock[x] != 0:\n",
        "      total += prices[x]\n",
        "      stock[x] -= 1\n",
        "  return total\n",
        "\n",
        "compute_bill(groceries)\n",
        "\n",
        "\n",
        "\n"
      ],
      "metadata": {
        "colab": {
          "base_uri": "https://localhost:8080/"
        },
        "id": "usG4gP_y_BmJ",
        "outputId": "9c085af4-a345-4a72-f68e-0555e5328054"
      },
      "execution_count": 75,
      "outputs": [
        {
          "output_type": "execute_result",
          "data": {
            "text/plain": [
              "5.5"
            ]
          },
          "metadata": {},
          "execution_count": 75
        }
      ]
    },
    {
      "cell_type": "code",
      "source": [
        "eren = {\n",
        " \"name\": \"Eren\",\n",
        " \"homework\": [90.0,97.0,75.0,92.0],\n",
        " \"quizzes\": [88.0,40.0,94.0],\n",
        " \"tests\": [75.0,90.0]\n",
        "}\n",
        "mikasa = {\n",
        "\"name\": \"Mikasa\",\n",
        "\"homework\": [100.0, 92.0, 98.0, 100.0],\n",
        "\"quizzes\": [82.0, 83.0, 91.0],\n",
        "\"tests\": [89.0, 97.0]\n",
        "}\n",
        "armin = {\n",
        "\"name\": \"Armin\",\n",
        "\"homework\": [0.0, 87.0, 75.0, 22.0],\n",
        "\"quizzes\": [0.0, 75.0, 78.0],\n",
        "\"tests\": [100.0, 100.0]\n",
        "}\n",
        "students= [\"eren\",\"mikasa\",\"armin\"]\n",
        "\n",
        "for i in students:\n",
        "    print(\"name:\", eval(i+\"['name']\"))\n",
        "    print(\"Homework:\",eval(i+\"['homework']\"))\n",
        "    print(\"Quizzes:\",eval(i+\"['quizzes']\"))\n",
        "    print(\"Tests::\",eval(i+\"['tests']\"))\n",
        "\n",
        "def average(numbers):\n",
        "    total = float(sum(numbers))\n",
        "    return total / len(numbers)\n",
        "\n",
        "def get_average(student):\n",
        "    homework = average(eval(i+\"['homework']\"))\n",
        "    quizzes = average(eval(i+\"['quizzes']\"))\n",
        "    tests = average(eval(i+\"['tests']\"))\n",
        "\n",
        "    weight_homework= (1/10)*(homework)\n",
        "    weight_quizzes= (3/10)*(quizzes)\n",
        "    weight_tests= (6/10)*(tests)\n",
        "    return weight_homework + weight_quizzes + weight_tests\n",
        "\n",
        "\n",
        "def get_letter_grade(score):\n",
        "  if score >= 90:\n",
        "    print(\"A\")\n",
        "  elif score >= 80:\n",
        "    print(\"B\")\n",
        "  elif score >= 70:\n",
        "    print(\"C\")\n",
        "  elif score >= 60:\n",
        "    print(\"D\")\n",
        "  else:\n",
        "    print(\"F\")\n",
        "\n",
        "\n",
        "def class_average(students):\n",
        "    result=[]\n",
        "    for i in students:\n",
        "      result.append(get_average(i))\n",
        "    return get_average(result)\n",
        "  \n",
        "\n",
        "print(\"The Class Average is\",get_average(students))\n",
        "get_letter_grade(class_average(students))\n"
      ],
      "metadata": {
        "colab": {
          "base_uri": "https://localhost:8080/"
        },
        "id": "sXg-EDBQNw01",
        "outputId": "3b01b6f2-de64-4dfd-d04c-81c35f0f6095"
      },
      "execution_count": 97,
      "outputs": [
        {
          "output_type": "stream",
          "name": "stdout",
          "text": [
            "name: Eren\n",
            "Homework: [90.0, 97.0, 75.0, 92.0]\n",
            "Quizzes: [88.0, 40.0, 94.0]\n",
            "Tests:: [75.0, 90.0]\n",
            "name: Mikasa\n",
            "Homework: [100.0, 92.0, 98.0, 100.0]\n",
            "Quizzes: [82.0, 83.0, 91.0]\n",
            "Tests:: [89.0, 97.0]\n",
            "name: Armin\n",
            "Homework: [0.0, 87.0, 75.0, 22.0]\n",
            "Quizzes: [0.0, 75.0, 78.0]\n",
            "Tests:: [100.0, 100.0]\n",
            "The Class Average is 79.9\n",
            "C\n"
          ]
        }
      ]
    },
    {
      "cell_type": "code",
      "source": [],
      "metadata": {
        "id": "UPbTrvk9MLKH"
      },
      "execution_count": null,
      "outputs": []
    }
  ]
}